{
  "nbformat": 4,
  "nbformat_minor": 0,
  "metadata": {
    "colab": {
      "provenance": [],
      "include_colab_link": true
    },
    "kernelspec": {
      "display_name": "Python 3",
      "language": "python",
      "name": "python3"
    }
  },
  "cells": [
    {
      "cell_type": "markdown",
      "metadata": {
        "id": "view-in-github",
        "colab_type": "text"
      },
      "source": [
        "<a href=\"https://colab.research.google.com/github/cpng123/Database-Advanced-Data-Techniques/blob/main/SPARQL%20Hand-On%20Lab%20-%20Solutions.ipynb\" target=\"_parent\"><img src=\"https://colab.research.google.com/assets/colab-badge.svg\" alt=\"Open In Colab\"/></a>"
      ]
    },
    {
      "metadata": {
        "id": "vM6ta952S2z2"
      },
      "cell_type": "markdown",
      "source": [
        "# 1. Introduction to RDF and SPARQL\n",
        "RDF (Resource Description Framework) is a standard model for data interchange on the web. SPARQL is a query language for RDF. This lab will introduce the basics of RDF, how to create RDF data in Turtle format, and how to query it using SPARQL.\n"
      ]
    },
    {
      "cell_type": "markdown",
      "source": [
        "# 2. Setting Up the Environment\n",
        "\n",
        "First, we need to install the `rdflib` library, which provides tools for working with RDF data in Python.\n"
      ],
      "metadata": {
        "id": "0LGk4rAcB7YK"
      }
    },
    {
      "cell_type": "code",
      "source": [
        "# Install rdflib library\n",
        "!pip install rdflib"
      ],
      "metadata": {
        "id": "zgXgWsKqFlWM",
        "outputId": "d3130544-dddb-4608-ce31-345eb9e43cd9",
        "colab": {
          "base_uri": "https://localhost:8080/"
        }
      },
      "execution_count": 1,
      "outputs": [
        {
          "output_type": "stream",
          "name": "stdout",
          "text": [
            "Collecting rdflib\n",
            "  Downloading rdflib-7.1.2-py3-none-any.whl.metadata (11 kB)\n",
            "Requirement already satisfied: pyparsing<4,>=3.2.0 in /usr/local/lib/python3.11/dist-packages (from rdflib) (3.2.1)\n",
            "Downloading rdflib-7.1.2-py3-none-any.whl (567 kB)\n",
            "\u001b[?25l   \u001b[90m━━━━━━━━━━━━━━━━━━━━━━━━━━━━━━━━━━━━━━━━\u001b[0m \u001b[32m0.0/567.0 kB\u001b[0m \u001b[31m?\u001b[0m eta \u001b[36m-:--:--\u001b[0m\r\u001b[2K   \u001b[91m━━━━━━━━━━━━━━━━━━━━━━━━━━━━━━━━━━━━━━━\u001b[0m\u001b[91m╸\u001b[0m \u001b[32m563.2/567.0 kB\u001b[0m \u001b[31m18.9 MB/s\u001b[0m eta \u001b[36m0:00:01\u001b[0m\r\u001b[2K   \u001b[90m━━━━━━━━━━━━━━━━━━━━━━━━━━━━━━━━━━━━━━━━\u001b[0m \u001b[32m567.0/567.0 kB\u001b[0m \u001b[31m11.4 MB/s\u001b[0m eta \u001b[36m0:00:00\u001b[0m\n",
            "\u001b[?25hInstalling collected packages: rdflib\n",
            "Successfully installed rdflib-7.1.2\n"
          ]
        }
      ]
    },
    {
      "cell_type": "markdown",
      "source": [
        "We also need to import necessary modules."
      ],
      "metadata": {
        "id": "nxFFaZ5KKWR1"
      }
    },
    {
      "cell_type": "code",
      "source": [
        "# Import necessary modules\n",
        "from rdflib import Graph, Literal, RDF, URIRef, Namespace\n",
        "from rdflib.namespace import FOAF, XSD, DC"
      ],
      "metadata": {
        "id": "2KLaaodNKXZd"
      },
      "execution_count": 2,
      "outputs": []
    },
    {
      "cell_type": "markdown",
      "source": [
        "# Use Case 1: Basic RDF and SPARQL\n",
        "\n",
        "# 3. Creating and Saving RDF Turtle Document\n",
        "\n",
        "We will create a simple RDF Turtle document and save it using the `%%writefile` magic cell.\n"
      ],
      "metadata": {
        "id": "f8wxprLvCP5E"
      }
    },
    {
      "cell_type": "code",
      "source": [
        "%%writefile data.ttl\n",
        "@prefix ex: <http://example.org/> .\n",
        "@prefix foaf: <http://xmlns.com/foaf/0.1/> .\n",
        "@prefix xsd: <http://www.w3.org/2001/XMLSchema#> .\n",
        "@prefix dc: <http://purl.org/dc/elements/1.1/> .\n",
        "\n",
        "ex:john a foaf:Person ;\n",
        "    foaf:name \"John Doe\"^^xsd:string ;\n",
        "    foaf:knows ex:jane, ex:bob ;\n",
        "    foaf:age \"30\"^^xsd:integer ;\n",
        "    foaf:mbox <mailto:john@example.org> .\n",
        "\n",
        "ex:jane a foaf:Person ;\n",
        "    foaf:name \"Jane Smith\"^^xsd:string ;\n",
        "    foaf:knows ex:john ;\n",
        "    foaf:age \"28\"^^xsd:integer ;\n",
        "    foaf:mbox <mailto:jane@example.org> ;\n",
        "    dc:creator ex:book1 .\n",
        "\n",
        "ex:bob a foaf:Person ;\n",
        "    foaf:name \"Bob Johnson\"^^xsd:string ;\n",
        "    foaf:knows ex:john ;\n",
        "    foaf:age \"35\"^^xsd:integer ;\n",
        "    foaf:mbox <mailto:bob@example.org> .\n",
        "\n",
        "ex:book1 a dc:Book ;\n",
        "    dc:title \"Learning RDF\"^^xsd:string ;\n",
        "    dc:creator ex:jane ;\n",
        "    dc:date \"2021-01-01\"^^xsd:date ."
      ],
      "metadata": {
        "id": "J8U76XcPCQTe",
        "outputId": "0ff6346c-56ed-494a-9578-3aed6be954c9",
        "colab": {
          "base_uri": "https://localhost:8080/"
        }
      },
      "execution_count": 3,
      "outputs": [
        {
          "output_type": "stream",
          "name": "stdout",
          "text": [
            "Writing data.ttl\n"
          ]
        }
      ]
    },
    {
      "cell_type": "markdown",
      "source": [
        "# 4. Loading RDF Turtle Document\n",
        "\n",
        "We can load RDF data from the Turtle document directly into an RDF graph."
      ],
      "metadata": {
        "id": "ncr8F5pRCbmb"
      }
    },
    {
      "cell_type": "code",
      "source": [
        "# Create a new RDF graph\n",
        "g = Graph()\n",
        "\n",
        "# Load the Turtle data from the file\n",
        "g.parse('data.ttl', format='turtle')\n",
        "\n",
        "# Verify the graph contents\n",
        "for stmt in g:\n",
        "    print(stmt)"
      ],
      "metadata": {
        "id": "f2q4bBmFNQuA",
        "outputId": "11f36fb7-3cbf-4857-a496-0f735a254d13",
        "colab": {
          "base_uri": "https://localhost:8080/"
        }
      },
      "execution_count": 4,
      "outputs": [
        {
          "output_type": "stream",
          "name": "stdout",
          "text": [
            "(rdflib.term.URIRef('http://example.org/book1'), rdflib.term.URIRef('http://www.w3.org/1999/02/22-rdf-syntax-ns#type'), rdflib.term.URIRef('http://purl.org/dc/elements/1.1/Book'))\n",
            "(rdflib.term.URIRef('http://example.org/book1'), rdflib.term.URIRef('http://purl.org/dc/elements/1.1/creator'), rdflib.term.URIRef('http://example.org/jane'))\n",
            "(rdflib.term.URIRef('http://example.org/book1'), rdflib.term.URIRef('http://purl.org/dc/elements/1.1/date'), rdflib.term.Literal('2021-01-01', datatype=rdflib.term.URIRef('http://www.w3.org/2001/XMLSchema#date')))\n",
            "(rdflib.term.URIRef('http://example.org/bob'), rdflib.term.URIRef('http://xmlns.com/foaf/0.1/knows'), rdflib.term.URIRef('http://example.org/john'))\n",
            "(rdflib.term.URIRef('http://example.org/bob'), rdflib.term.URIRef('http://xmlns.com/foaf/0.1/age'), rdflib.term.Literal('35', datatype=rdflib.term.URIRef('http://www.w3.org/2001/XMLSchema#integer')))\n",
            "(rdflib.term.URIRef('http://example.org/jane'), rdflib.term.URIRef('http://www.w3.org/1999/02/22-rdf-syntax-ns#type'), rdflib.term.URIRef('http://xmlns.com/foaf/0.1/Person'))\n",
            "(rdflib.term.URIRef('http://example.org/jane'), rdflib.term.URIRef('http://xmlns.com/foaf/0.1/age'), rdflib.term.Literal('28', datatype=rdflib.term.URIRef('http://www.w3.org/2001/XMLSchema#integer')))\n",
            "(rdflib.term.URIRef('http://example.org/john'), rdflib.term.URIRef('http://xmlns.com/foaf/0.1/mbox'), rdflib.term.URIRef('mailto:john@example.org'))\n",
            "(rdflib.term.URIRef('http://example.org/jane'), rdflib.term.URIRef('http://xmlns.com/foaf/0.1/knows'), rdflib.term.URIRef('http://example.org/john'))\n",
            "(rdflib.term.URIRef('http://example.org/bob'), rdflib.term.URIRef('http://xmlns.com/foaf/0.1/name'), rdflib.term.Literal('Bob Johnson', datatype=rdflib.term.URIRef('http://www.w3.org/2001/XMLSchema#string')))\n",
            "(rdflib.term.URIRef('http://example.org/john'), rdflib.term.URIRef('http://xmlns.com/foaf/0.1/knows'), rdflib.term.URIRef('http://example.org/bob'))\n",
            "(rdflib.term.URIRef('http://example.org/jane'), rdflib.term.URIRef('http://purl.org/dc/elements/1.1/creator'), rdflib.term.URIRef('http://example.org/book1'))\n",
            "(rdflib.term.URIRef('http://example.org/john'), rdflib.term.URIRef('http://www.w3.org/1999/02/22-rdf-syntax-ns#type'), rdflib.term.URIRef('http://xmlns.com/foaf/0.1/Person'))\n",
            "(rdflib.term.URIRef('http://example.org/book1'), rdflib.term.URIRef('http://purl.org/dc/elements/1.1/title'), rdflib.term.Literal('Learning RDF', datatype=rdflib.term.URIRef('http://www.w3.org/2001/XMLSchema#string')))\n",
            "(rdflib.term.URIRef('http://example.org/jane'), rdflib.term.URIRef('http://xmlns.com/foaf/0.1/mbox'), rdflib.term.URIRef('mailto:jane@example.org'))\n",
            "(rdflib.term.URIRef('http://example.org/bob'), rdflib.term.URIRef('http://www.w3.org/1999/02/22-rdf-syntax-ns#type'), rdflib.term.URIRef('http://xmlns.com/foaf/0.1/Person'))\n",
            "(rdflib.term.URIRef('http://example.org/john'), rdflib.term.URIRef('http://xmlns.com/foaf/0.1/knows'), rdflib.term.URIRef('http://example.org/jane'))\n",
            "(rdflib.term.URIRef('http://example.org/bob'), rdflib.term.URIRef('http://xmlns.com/foaf/0.1/mbox'), rdflib.term.URIRef('mailto:bob@example.org'))\n",
            "(rdflib.term.URIRef('http://example.org/jane'), rdflib.term.URIRef('http://xmlns.com/foaf/0.1/name'), rdflib.term.Literal('Jane Smith', datatype=rdflib.term.URIRef('http://www.w3.org/2001/XMLSchema#string')))\n",
            "(rdflib.term.URIRef('http://example.org/john'), rdflib.term.URIRef('http://xmlns.com/foaf/0.1/age'), rdflib.term.Literal('30', datatype=rdflib.term.URIRef('http://www.w3.org/2001/XMLSchema#integer')))\n",
            "(rdflib.term.URIRef('http://example.org/john'), rdflib.term.URIRef('http://xmlns.com/foaf/0.1/name'), rdflib.term.Literal('John Doe', datatype=rdflib.term.URIRef('http://www.w3.org/2001/XMLSchema#string')))\n"
          ]
        }
      ]
    },
    {
      "cell_type": "markdown",
      "source": [
        "# 5. Querying RDF Data with SPARQL\n",
        "\n",
        "We will use SPARQL to query the RDF data we loaded.\n"
      ],
      "metadata": {
        "id": "zi7YksTPGlBH"
      }
    },
    {
      "cell_type": "markdown",
      "source": [
        "**a. Querying all people and their names:**"
      ],
      "metadata": {
        "id": "IHsecsNoZzgL"
      }
    },
    {
      "cell_type": "code",
      "source": [
        "# Define a SPARQL query\n",
        "query = \"\"\"\n",
        "PREFIX foaf: <http://xmlns.com/foaf/0.1/>\n",
        "PREFIX ex: <http://example.org/>\n",
        "SELECT ?person ?name\n",
        "WHERE {\n",
        "  ?person a foaf:Person .\n",
        "  ?person foaf:name ?name .\n",
        "}\n",
        "\"\"\"\n",
        "\n",
        "# Execute the query on the loaded graph\n",
        "qres = g.query(query)\n",
        "\n",
        "# Print the results\n",
        "for row in qres:\n",
        "    print(f\"{row.person} is named {row.name}\")"
      ],
      "metadata": {
        "id": "itVBhf6uGm3f",
        "outputId": "ed7471b6-b893-4fdd-8832-495f22acfd1f",
        "colab": {
          "base_uri": "https://localhost:8080/"
        }
      },
      "execution_count": 5,
      "outputs": [
        {
          "output_type": "stream",
          "name": "stdout",
          "text": [
            "http://example.org/john is named John Doe\n",
            "http://example.org/jane is named Jane Smith\n",
            "http://example.org/bob is named Bob Johnson\n"
          ]
        }
      ]
    },
    {
      "cell_type": "markdown",
      "source": [
        "**b. Querying relationships (who knows whom):**"
      ],
      "metadata": {
        "id": "ZK39BLCHmVUa"
      }
    },
    {
      "cell_type": "code",
      "source": [
        "# Define a SPARQL query for relationships\n",
        "query = \"\"\"\n",
        "PREFIX foaf: <http://xmlns.com/foaf/0.1/>\n",
        "PREFIX ex: <http://example.org/>\n",
        "SELECT ?person1_name ?person2_name ?person1_age ?person2_age\n",
        "WHERE {\n",
        "  ?person1 foaf:knows ?person2 .\n",
        "  ?person1 foaf:name ?person1_name .\n",
        "  ?person2 foaf:name ?person2_name .\n",
        "  ?person1 foaf:age ?person1_age .\n",
        "  ?person2 foaf:age ?person2_age .\n",
        "}\n",
        "\"\"\"\n",
        "\n",
        "# Execute the query on the loaded graph\n",
        "qres = g.query(query)\n",
        "\n",
        "# Print the results\n",
        "for row in qres:\n",
        "    print(f\"[{row.person1_name} age {row.person1_age}] knows [{row.person2_name} age {row.person2_age}]\")"
      ],
      "metadata": {
        "id": "bC9JhrHXbWZr",
        "outputId": "5c3c133f-c20d-42dc-d3c9-968a962dac98",
        "colab": {
          "base_uri": "https://localhost:8080/"
        }
      },
      "execution_count": 13,
      "outputs": [
        {
          "output_type": "stream",
          "name": "stdout",
          "text": [
            "[John Doe age 30] knows [Jane Smith age 28]\n",
            "[John Doe age 30] knows [Bob Johnson age 35]\n",
            "[Jane Smith age 28] knows [John Doe age 30]\n",
            "[Bob Johnson age 35] knows [John Doe age 30]\n"
          ]
        }
      ]
    },
    {
      "cell_type": "markdown",
      "source": [
        "# 6. Advanced SPARQL Queries\n",
        "\n",
        "Let's explore some advanced SPARQL queries."
      ],
      "metadata": {
        "id": "uBOIyVwObcyO"
      }
    },
    {
      "cell_type": "markdown",
      "source": [
        "**a. Querying with optional properties:**"
      ],
      "metadata": {
        "id": "N_XpvSfRbfPP"
      }
    },
    {
      "cell_type": "code",
      "source": [
        "# Define a SPARQL query with an optional property\n",
        "query = \"\"\"\n",
        "PREFIX foaf: <http://xmlns.com/foaf/0.1/>\n",
        "PREFIX ex: <http://example.org/>\n",
        "SELECT ?person ?name ?mbox\n",
        "WHERE {\n",
        "  ?person a foaf:Person .\n",
        "  ?person foaf:name ?name .\n",
        "  OPTIONAL { ?person foaf:mbox ?mbox . }\n",
        "}\n",
        "\"\"\"\n",
        "\n",
        "# Execute the query on the loaded graph\n",
        "qres = g.query(query)\n",
        "\n",
        "# Print the results\n",
        "for row in qres:\n",
        "    print(f\"{row.person} {row.name} {row.mbox}\")"
      ],
      "metadata": {
        "id": "BSsXBUfhaJp9",
        "outputId": "6e8b5523-22f2-488c-d93a-31bccea0f601",
        "colab": {
          "base_uri": "https://localhost:8080/"
        }
      },
      "execution_count": 14,
      "outputs": [
        {
          "output_type": "stream",
          "name": "stdout",
          "text": [
            "http://example.org/john John Doe mailto:john@example.org\n",
            "http://example.org/jane Jane Smith mailto:jane@example.org\n",
            "http://example.org/bob Bob Johnson mailto:bob@example.org\n"
          ]
        }
      ]
    },
    {
      "cell_type": "markdown",
      "source": [
        "**b. Querying with filters:**"
      ],
      "metadata": {
        "id": "MYRMT54Xn1EB"
      }
    },
    {
      "cell_type": "code",
      "source": [
        "# Define a SPARQL query with a filter\n",
        "query = \"\"\"\n",
        "PREFIX foaf: <http://xmlns.com/foaf/0.1/>\n",
        "PREFIX ex: <http://example.org/>\n",
        "SELECT ?person ?name\n",
        "WHERE {\n",
        "  ?person a foaf:Person .\n",
        "  ?person foaf:name ?name .\n",
        "  FILTER regex(?name, \"John\", \"i\")\n",
        "}\n",
        "\"\"\"\n",
        "\n",
        "# Execute the query on the loaded graph\n",
        "qres = g.query(query)\n",
        "\n",
        "# Print the results\n",
        "for row in qres:\n",
        "    print(f\"{row.person} {row.name}\")"
      ],
      "metadata": {
        "id": "W0agPtBpNpc3",
        "outputId": "9ff0d6d1-8fa2-4a1a-ff18-59c3725814f5",
        "colab": {
          "base_uri": "https://localhost:8080/"
        }
      },
      "execution_count": 15,
      "outputs": [
        {
          "output_type": "stream",
          "name": "stdout",
          "text": [
            "http://example.org/john John Doe\n",
            "http://example.org/bob Bob Johnson\n"
          ]
        }
      ]
    },
    {
      "cell_type": "markdown",
      "source": [
        "**c. Querying books and their creators:**"
      ],
      "metadata": {
        "id": "G1mRdeRFoXaY"
      }
    },
    {
      "cell_type": "code",
      "source": [
        "# Define a SPARQL query to get books and their creators\n",
        "query = \"\"\"\n",
        "PREFIX dc: <http://purl.org/dc/elements/1.1/>\n",
        "PREFIX ex: <http://example.org/>\n",
        "SELECT ?book ?title ?creator\n",
        "WHERE {\n",
        "  ?book a dc:Book .\n",
        "  ?book dc:title ?title .\n",
        "  ?book dc:creator ?creator .\n",
        "}\n",
        "\"\"\"\n",
        "\n",
        "# Execute the query on the loaded graph\n",
        "qres = g.query(query)\n",
        "\n",
        "# Print the results\n",
        "for row in qres:\n",
        "    print(f\"{row.book} {row.title} {row.creator}\")"
      ],
      "metadata": {
        "id": "M7lCulsSjqun",
        "outputId": "d574c1ad-d8cc-442d-a3fe-1188ab2663a0",
        "colab": {
          "base_uri": "https://localhost:8080/"
        }
      },
      "execution_count": 16,
      "outputs": [
        {
          "output_type": "stream",
          "name": "stdout",
          "text": [
            "http://example.org/book1 Learning RDF http://example.org/jane\n"
          ]
        }
      ]
    },
    {
      "cell_type": "markdown",
      "source": [
        "# Use Case 2: Advanced RDF and SPARQL\n",
        "\n",
        "# 7. Creating and Saving a More Complex RDF Turtle Document\n",
        "\n",
        "We will create a more complex RDF Turtle document and save it using the `%%writefile` magic cell."
      ],
      "metadata": {
        "id": "O6kaX0jfHxXa"
      }
    },
    {
      "cell_type": "code",
      "source": [
        "%%writefile complex_data.ttl\n",
        "@prefix ex: <http://example.org/> .\n",
        "@prefix foaf: <http://xmlns.com/foaf/0.1/> .\n",
        "@prefix xsd: <http://www.w3.org/2001/XMLSchema#> .\n",
        "@prefix dc: <http://purl.org/dc/elements/1.1/> .\n",
        "\n",
        "ex:john a foaf:Person ;\n",
        "    foaf:name \"John Doe\"^^xsd:string ;\n",
        "    foaf:knows ex:jane, ex:bob ;\n",
        "    foaf:age \"30\"^^xsd:integer ;\n",
        "    foaf:mbox <mailto:john@example.org> ;\n",
        "    ex:hasPet ex:spot .\n",
        "\n",
        "ex:jane a foaf:Person ;\n",
        "    foaf:name \"Jane Smith\"^^xsd:string ;\n",
        "    foaf:knows ex:john, ex:alice ;\n",
        "    foaf:age \"28\"^^xsd:integer ;\n",
        "    foaf:mbox <mailto:jane@example.org> ;\n",
        "    dc:creator ex:book1 .\n",
        "\n",
        "ex:bob a foaf:Person ;\n",
        "    foaf:name \"Bob Johnson\"^^xsd:string ;\n",
        "    foaf:knows ex:john ;\n",
        "    foaf:age \"35\"^^xsd:integer ;\n",
        "    foaf:mbox <mailto:bob@example.org> .\n",
        "\n",
        "ex:alice a foaf:Person ;\n",
        "    foaf:name \"Alice Brown\"^^xsd:string ;\n",
        "    foaf:knows ex:jane ;\n",
        "    foaf:age \"25\"^^xsd:integer ;\n",
        "    foaf:mbox <mailto:alice@example.org> .\n",
        "\n",
        "ex:book1 a dc:Book ;\n",
        "    dc:title \"Learning RDF\"^^xsd:string ;\n",
        "    dc:creator ex:jane ;\n",
        "    dc:date \"2021-01-01\"^^xsd:date .\n",
        "\n",
        "ex:spot a ex:Pet ;\n",
        "    ex:name \"Spot\"^^xsd:string ;\n",
        "    ex:type \"Dog\"^^xsd:string ;\n",
        "    ex:owner ex:john ."
      ],
      "metadata": {
        "id": "5nCpwNFMc5g8",
        "outputId": "a84cec5f-bfe1-4715-b42c-ad7b9944b2c7",
        "colab": {
          "base_uri": "https://localhost:8080/"
        }
      },
      "execution_count": 17,
      "outputs": [
        {
          "output_type": "stream",
          "name": "stdout",
          "text": [
            "Writing complex_data.ttl\n"
          ]
        }
      ]
    },
    {
      "cell_type": "markdown",
      "source": [
        "# 8. Loading the More Complex RDF Turtle Document\n",
        "\n",
        "We can load RDF data from the Turtle document directly into an RDF graph.\n"
      ],
      "metadata": {
        "id": "xUYJCDrXIKBI"
      }
    },
    {
      "cell_type": "code",
      "source": [
        "# Create a new RDF graph\n",
        "g_complex = Graph()\n",
        "\n",
        "# Load the Turtle data from the file\n",
        "g_complex.parse('complex_data.ttl', format='turtle')\n",
        "\n",
        "# Verify the graph contents\n",
        "for stmt in g_complex:\n",
        "    print(stmt)"
      ],
      "metadata": {
        "id": "RbUMVaNzdOvx",
        "outputId": "77513894-242e-4c5f-a633-432624a0ec15",
        "colab": {
          "base_uri": "https://localhost:8080/"
        }
      },
      "execution_count": 18,
      "outputs": [
        {
          "output_type": "stream",
          "name": "stdout",
          "text": [
            "(rdflib.term.URIRef('http://example.org/alice'), rdflib.term.URIRef('http://xmlns.com/foaf/0.1/name'), rdflib.term.Literal('Alice Brown', datatype=rdflib.term.URIRef('http://www.w3.org/2001/XMLSchema#string')))\n",
            "(rdflib.term.URIRef('http://example.org/bob'), rdflib.term.URIRef('http://xmlns.com/foaf/0.1/knows'), rdflib.term.URIRef('http://example.org/john'))\n",
            "(rdflib.term.URIRef('http://example.org/bob'), rdflib.term.URIRef('http://xmlns.com/foaf/0.1/age'), rdflib.term.Literal('35', datatype=rdflib.term.URIRef('http://www.w3.org/2001/XMLSchema#integer')))\n",
            "(rdflib.term.URIRef('http://example.org/jane'), rdflib.term.URIRef('http://www.w3.org/1999/02/22-rdf-syntax-ns#type'), rdflib.term.URIRef('http://xmlns.com/foaf/0.1/Person'))\n",
            "(rdflib.term.URIRef('http://example.org/jane'), rdflib.term.URIRef('http://xmlns.com/foaf/0.1/knows'), rdflib.term.URIRef('http://example.org/alice'))\n",
            "(rdflib.term.URIRef('http://example.org/john'), rdflib.term.URIRef('http://xmlns.com/foaf/0.1/mbox'), rdflib.term.URIRef('mailto:john@example.org'))\n",
            "(rdflib.term.URIRef('http://example.org/jane'), rdflib.term.URIRef('http://xmlns.com/foaf/0.1/knows'), rdflib.term.URIRef('http://example.org/john'))\n",
            "(rdflib.term.URIRef('http://example.org/jane'), rdflib.term.URIRef('http://xmlns.com/foaf/0.1/age'), rdflib.term.Literal('28', datatype=rdflib.term.URIRef('http://www.w3.org/2001/XMLSchema#integer')))\n",
            "(rdflib.term.URIRef('http://example.org/john'), rdflib.term.URIRef('http://xmlns.com/foaf/0.1/knows'), rdflib.term.URIRef('http://example.org/bob'))\n",
            "(rdflib.term.URIRef('http://example.org/alice'), rdflib.term.URIRef('http://www.w3.org/1999/02/22-rdf-syntax-ns#type'), rdflib.term.URIRef('http://xmlns.com/foaf/0.1/Person'))\n",
            "(rdflib.term.URIRef('http://example.org/jane'), rdflib.term.URIRef('http://purl.org/dc/elements/1.1/creator'), rdflib.term.URIRef('http://example.org/book1'))\n",
            "(rdflib.term.URIRef('http://example.org/alice'), rdflib.term.URIRef('http://xmlns.com/foaf/0.1/knows'), rdflib.term.URIRef('http://example.org/jane'))\n",
            "(rdflib.term.URIRef('http://example.org/book1'), rdflib.term.URIRef('http://purl.org/dc/elements/1.1/title'), rdflib.term.Literal('Learning RDF', datatype=rdflib.term.URIRef('http://www.w3.org/2001/XMLSchema#string')))\n",
            "(rdflib.term.URIRef('http://example.org/jane'), rdflib.term.URIRef('http://xmlns.com/foaf/0.1/mbox'), rdflib.term.URIRef('mailto:jane@example.org'))\n",
            "(rdflib.term.URIRef('http://example.org/spot'), rdflib.term.URIRef('http://example.org/owner'), rdflib.term.URIRef('http://example.org/john'))\n",
            "(rdflib.term.URIRef('http://example.org/bob'), rdflib.term.URIRef('http://xmlns.com/foaf/0.1/mbox'), rdflib.term.URIRef('mailto:bob@example.org'))\n",
            "(rdflib.term.URIRef('http://example.org/jane'), rdflib.term.URIRef('http://xmlns.com/foaf/0.1/name'), rdflib.term.Literal('Jane Smith', datatype=rdflib.term.URIRef('http://www.w3.org/2001/XMLSchema#string')))\n",
            "(rdflib.term.URIRef('http://example.org/john'), rdflib.term.URIRef('http://xmlns.com/foaf/0.1/age'), rdflib.term.Literal('30', datatype=rdflib.term.URIRef('http://www.w3.org/2001/XMLSchema#integer')))\n",
            "(rdflib.term.URIRef('http://example.org/spot'), rdflib.term.URIRef('http://example.org/name'), rdflib.term.Literal('Spot', datatype=rdflib.term.URIRef('http://www.w3.org/2001/XMLSchema#string')))\n",
            "(rdflib.term.URIRef('http://example.org/book1'), rdflib.term.URIRef('http://www.w3.org/1999/02/22-rdf-syntax-ns#type'), rdflib.term.URIRef('http://purl.org/dc/elements/1.1/Book'))\n",
            "(rdflib.term.URIRef('http://example.org/book1'), rdflib.term.URIRef('http://purl.org/dc/elements/1.1/creator'), rdflib.term.URIRef('http://example.org/jane'))\n",
            "(rdflib.term.URIRef('http://example.org/book1'), rdflib.term.URIRef('http://purl.org/dc/elements/1.1/date'), rdflib.term.Literal('2021-01-01', datatype=rdflib.term.URIRef('http://www.w3.org/2001/XMLSchema#date')))\n",
            "(rdflib.term.URIRef('http://example.org/spot'), rdflib.term.URIRef('http://www.w3.org/1999/02/22-rdf-syntax-ns#type'), rdflib.term.URIRef('http://example.org/Pet'))\n",
            "(rdflib.term.URIRef('http://example.org/alice'), rdflib.term.URIRef('http://xmlns.com/foaf/0.1/age'), rdflib.term.Literal('25', datatype=rdflib.term.URIRef('http://www.w3.org/2001/XMLSchema#integer')))\n",
            "(rdflib.term.URIRef('http://example.org/bob'), rdflib.term.URIRef('http://xmlns.com/foaf/0.1/name'), rdflib.term.Literal('Bob Johnson', datatype=rdflib.term.URIRef('http://www.w3.org/2001/XMLSchema#string')))\n",
            "(rdflib.term.URIRef('http://example.org/john'), rdflib.term.URIRef('http://example.org/hasPet'), rdflib.term.URIRef('http://example.org/spot'))\n",
            "(rdflib.term.URIRef('http://example.org/john'), rdflib.term.URIRef('http://www.w3.org/1999/02/22-rdf-syntax-ns#type'), rdflib.term.URIRef('http://xmlns.com/foaf/0.1/Person'))\n",
            "(rdflib.term.URIRef('http://example.org/spot'), rdflib.term.URIRef('http://example.org/type'), rdflib.term.Literal('Dog', datatype=rdflib.term.URIRef('http://www.w3.org/2001/XMLSchema#string')))\n",
            "(rdflib.term.URIRef('http://example.org/bob'), rdflib.term.URIRef('http://www.w3.org/1999/02/22-rdf-syntax-ns#type'), rdflib.term.URIRef('http://xmlns.com/foaf/0.1/Person'))\n",
            "(rdflib.term.URIRef('http://example.org/john'), rdflib.term.URIRef('http://xmlns.com/foaf/0.1/knows'), rdflib.term.URIRef('http://example.org/jane'))\n",
            "(rdflib.term.URIRef('http://example.org/alice'), rdflib.term.URIRef('http://xmlns.com/foaf/0.1/mbox'), rdflib.term.URIRef('mailto:alice@example.org'))\n",
            "(rdflib.term.URIRef('http://example.org/john'), rdflib.term.URIRef('http://xmlns.com/foaf/0.1/name'), rdflib.term.Literal('John Doe', datatype=rdflib.term.URIRef('http://www.w3.org/2001/XMLSchema#string')))\n"
          ]
        }
      ]
    },
    {
      "cell_type": "markdown",
      "source": [
        "# 9. Querying the More Complex RDF Data with SPARQL\n",
        "\n",
        "We will use SPARQL to query the more complex RDF data we loaded.\n"
      ],
      "metadata": {
        "id": "YCNewqotISMZ"
      }
    },
    {
      "cell_type": "markdown",
      "source": [
        "**a. Querying people and their pets:**"
      ],
      "metadata": {
        "id": "KIqHBVLlcsiz"
      }
    },
    {
      "cell_type": "code",
      "source": [
        "# Define a SPARQL query to get people and their pets\n",
        "query = \"\"\"\n",
        "PREFIX ex: <http://example.org/>\n",
        "SELECT ?person ?pet ?petName ?petType\n",
        "WHERE {\n",
        "  ?person ex:hasPet ?pet .\n",
        "  ?pet ex:name ?petName .\n",
        "\n",
        "\n",
        " ?pet ex:type ?petType .\n",
        "}\n",
        "\"\"\"\n",
        "\n",
        "# Execute the query on the loaded graph\n",
        "qres = g_complex.query(query)\n",
        "\n",
        "# Print the results\n",
        "for row in qres:\n",
        "    print(f\"{row.person} {row.pet} {row.petName} {row.petType}\")"
      ],
      "metadata": {
        "id": "oeYt0rqzpKnr",
        "outputId": "2f04de7e-c4fb-4f12-cece-7a47e3c26ebe",
        "colab": {
          "base_uri": "https://localhost:8080/"
        }
      },
      "execution_count": 19,
      "outputs": [
        {
          "output_type": "stream",
          "name": "stdout",
          "text": [
            "http://example.org/john http://example.org/spot Spot Dog\n"
          ]
        }
      ]
    },
    {
      "cell_type": "markdown",
      "source": [
        "**b. Querying people who know others with pets:**\n"
      ],
      "metadata": {
        "id": "OtseGmERr9jQ"
      }
    },
    {
      "cell_type": "code",
      "source": [
        "# Define a SPARQL query to get people and their pets\n",
        "query = \"\"\"\n",
        "PREFIX ex: <http://example.org/>\n",
        "PREFIX foaf: <http://xmlns.com/foaf/0.1/>\n",
        "SELECT ?person_name\n",
        "WHERE {\n",
        "  ?friend ex:hasPet ?pet .\n",
        "  ?person foaf:knows ?friend .\n",
        "  ?person foaf:name ?person_name .\n",
        "}\n",
        "\"\"\"\n",
        "\n",
        "# Execute the query on the loaded graph\n",
        "qres = g_complex.query(query)\n",
        "\n",
        "# Print the results\n",
        "for row in qres:\n",
        "    print(f\"{row.person_name}\")"
      ],
      "metadata": {
        "id": "_SIRDkO5K5dO",
        "outputId": "1fea44e8-37a4-4bfa-fa2c-12ad632ed59a",
        "colab": {
          "base_uri": "https://localhost:8080/"
        }
      },
      "execution_count": 34,
      "outputs": [
        {
          "output_type": "stream",
          "name": "stdout",
          "text": [
            "Jane Smith\n",
            "Bob Johnson\n"
          ]
        }
      ]
    },
    {
      "cell_type": "markdown",
      "source": [
        "**a. Extract titles of all books (list example):**\n"
      ],
      "metadata": {
        "id": "GPj9LFGrsyyE"
      }
    },
    {
      "cell_type": "code",
      "source": [
        "# Define a SPARQL query to get people who know others with pets\n",
        "query = \"\"\"\n",
        "PREFIX ex: <http://example.org/>\n",
        "PREFIX foaf: <http://xmlns.com/foaf/0.1/>\n",
        "SELECT ?person ?knownPerson ?petName\n",
        "WHERE {\n",
        "  ?person foaf:knows ?knownPerson .\n",
        "  ?knownPerson ex:hasPet ?pet .\n",
        "  ?pet ex:name ?petName .\n",
        "}\n",
        "\"\"\"\n",
        "\n",
        "# Execute the query on the loaded graph\n",
        "qres = g_complex.query(query)\n",
        "\n",
        "# Print the results\n",
        "for row in qres:\n",
        "    print(f\"{row.person} {row.knownPerson} {row.petName}\")"
      ],
      "metadata": {
        "id": "TWRu81nReEw2",
        "outputId": "9678b9ef-de47-4595-b827-80802889b5c8",
        "colab": {
          "base_uri": "https://localhost:8080/"
        }
      },
      "execution_count": 35,
      "outputs": [
        {
          "output_type": "stream",
          "name": "stdout",
          "text": [
            "http://example.org/jane http://example.org/john Spot\n",
            "http://example.org/bob http://example.org/john Spot\n"
          ]
        }
      ]
    },
    {
      "cell_type": "markdown",
      "source": [
        "**c. Querying people who are creators and their books:**"
      ],
      "metadata": {
        "id": "wncBlxCctOPr"
      }
    },
    {
      "cell_type": "code",
      "source": [
        "# Define a SPARQL query to get people who are creators and their books\n",
        "query = \"\"\"\n",
        "PREFIX dc: <http://purl.org/dc/elements/1.1/>\n",
        "PREFIX ex: <http://example.org/>\n",
        "SELECT ?person ?book ?title\n",
        "WHERE {\n",
        "  ?book dc:creator ?person .\n",
        "  ?book dc:title ?title .\n",
        "}\n",
        "\"\"\"\n",
        "\n",
        "# Execute the query on the loaded graph\n",
        "qres = g_complex.query(query)\n",
        "\n",
        "# Print the results\n",
        "for row in qres:\n",
        "    print(f\"{row.person} {row.book} {row.title}\")"
      ],
      "metadata": {
        "id": "AZXxnpqEfwc-",
        "outputId": "a41a0712-325d-4f91-c5c8-9edaee390ad8",
        "colab": {
          "base_uri": "https://localhost:8080/"
        }
      },
      "execution_count": 36,
      "outputs": [
        {
          "output_type": "stream",
          "name": "stdout",
          "text": [
            "http://example.org/jane http://example.org/book1 Learning RDF\n"
          ]
        }
      ]
    },
    {
      "cell_type": "markdown",
      "source": [
        "# 10. Conclusion\n",
        "\n",
        "RDF and SPARQL are powerful tools for representing and querying data on the web. In this lab, we've covered two use cases: the basics of creating RDF data, saving it to a Turtle document, loading RDF data from a Turtle document, and querying it using SPARQL; and a more complex example with advanced RDF structures and queries. You can further explore RDF and SPARQL to handle more complex data and queries.\n"
      ],
      "metadata": {
        "id": "b8zsF3bWtb8H"
      }
    }
  ]
}